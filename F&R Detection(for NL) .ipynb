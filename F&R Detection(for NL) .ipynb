{
 "cells": [
  {
   "cell_type": "code",
   "execution_count": 1,
   "id": "a7c3dee0-898a-4341-83d5-7a8ffe2533cf",
   "metadata": {},
   "outputs": [
    {
     "name": "stdout",
     "output_type": "stream",
     "text": [
      "Found 34 images belonging to 2 classes.\n",
      "Found 7 images belonging to 2 classes.\n",
      "Class indices: {'ai_generated': 0, 'original': 1}\n",
      "Training samples: 34\n",
      "Validation samples: 7\n"
     ]
    }
   ],
   "source": [
    "from tensorflow.keras.preprocessing.image import ImageDataGenerator\n",
    "\n",
    "# Data Augmentation and Preprocessing\n",
    "train_datagen = ImageDataGenerator(\n",
    "    rescale=1./255,\n",
    "    validation_split=0.2\n",
    ")\n",
    "\n",
    "train_generator = train_datagen.flow_from_directory(\n",
    "    \"E:\\\\data\",  # Path to your dataset\n",
    "    target_size=(224, 224),\n",
    "    batch_size=8,\n",
    "    class_mode='binary',\n",
    "    subset='training'\n",
    ")\n",
    "\n",
    "validation_generator = train_datagen.flow_from_directory(\n",
    "   \"E:\\\\data\" ,  # Path to your dataset\n",
    "    target_size=(224, 224),\n",
    "    batch_size=8,\n",
    "    class_mode='binary',\n",
    "    subset='validation'\n",
    ")\n",
    "\n",
    "# Check class indices\n",
    "print(\"Class indices:\", train_generator.class_indices)\n",
    "\n",
    "# Check the number of samples in each subset\n",
    "print(\"Training samples:\", train_generator.samples)\n",
    "print(\"Validation samples:\", validation_generator.samples)\n"
   ]
  },
  {
   "cell_type": "code",
   "execution_count": 2,
   "id": "d2768b72-9090-41c8-9dfc-4f0103407612",
   "metadata": {},
   "outputs": [
    {
     "name": "stdout",
     "output_type": "stream",
     "text": [
      "Epoch 1/5\n",
      "5/5 [==============================] - 7s 1s/step - loss: 1.5599 - accuracy: 0.4706 - val_loss: 1.1082 - val_accuracy: 0.4286\n",
      "Epoch 2/5\n",
      "5/5 [==============================] - 6s 1s/step - loss: 0.5981 - accuracy: 0.6765 - val_loss: 0.5060 - val_accuracy: 0.5714\n",
      "Epoch 3/5\n",
      "5/5 [==============================] - 6s 1s/step - loss: 0.2579 - accuracy: 0.9118 - val_loss: 0.4695 - val_accuracy: 0.8571\n",
      "Epoch 4/5\n",
      "5/5 [==============================] - 6s 1s/step - loss: 0.0742 - accuracy: 1.0000 - val_loss: 0.5890 - val_accuracy: 0.7143\n",
      "Epoch 5/5\n",
      "5/5 [==============================] - 6s 1s/step - loss: 0.0232 - accuracy: 1.0000 - val_loss: 0.5822 - val_accuracy: 0.7143\n",
      "1/1 [==============================] - 1s 898ms/step - loss: 0.5822 - accuracy: 0.7143\n",
      "Validation Accuracy: 0.71\n"
     ]
    }
   ],
   "source": [
    "from tensorflow.keras.models import Sequential\n",
    "from tensorflow.keras.layers import Dense, Flatten, Dropout\n",
    "from tensorflow.keras.applications import VGG16\n",
    "from tensorflow.keras.optimizers import Adam\n",
    "\n",
    "# Load base model\n",
    "base_model = VGG16(weights='imagenet', include_top=False, input_shape=(224, 224, 3))\n",
    "\n",
    "# Freeze base model layers\n",
    "for layer in base_model.layers:\n",
    "    layer.trainable = False\n",
    "\n",
    "# Build model\n",
    "model = Sequential([\n",
    "    base_model,\n",
    "    Flatten(),\n",
    "    Dense(512, activation='relu'),\n",
    "    Dropout(0.5),\n",
    "    Dense(1, activation='sigmoid')\n",
    "])\n",
    "\n",
    "# Compile model\n",
    "model.compile(optimizer=Adam(learning_rate=0.0001), loss='binary_crossentropy', metrics=['accuracy'])\n",
    "\n",
    "# Train model\n",
    "model.fit(\n",
    "    train_generator,\n",
    "    epochs=5,\n",
    "    validation_data=validation_generator\n",
    ")\n",
    "\n",
    "# Evaluate model\n",
    "loss, accuracy = model.evaluate(validation_generator)\n",
    "print(f'Validation Accuracy: {accuracy:.2f}')\n"
   ]
  },
  {
   "cell_type": "code",
   "execution_count": 3,
   "id": "0dd546f1-ebb3-4e4a-97aa-e3dfdd06521f",
   "metadata": {},
   "outputs": [
    {
     "name": "stdout",
     "output_type": "stream",
     "text": [
      "1/1 [==============================] - 0s 284ms/step\n",
      "E:\\data\\original\\image1.jpg is AI-generated\n"
     ]
    }
   ],
   "source": [
    "import numpy as np\n",
    "from tensorflow.keras.preprocessing import image\n",
    "\n",
    "def predict_image(model, img_path):\n",
    "    img = image.load_img(img_path, target_size=(224, 224))\n",
    "    img_array = image.img_to_array(img)\n",
    "    img_array = np.expand_dims(img_array, axis=0)\n",
    "    img_array /= 255.0  # Normalize to [0, 1]\n",
    "    \n",
    "    prediction = model.predict(img_array)\n",
    "    return 'Original' if prediction < 0.5 else 'AI-generated'\n",
    "\n",
    "# Test the model with some images\n",
    "image_paths = [\n",
    "    \"E:\\\\data\\\\original\\\\image1.jpg\",\n",
    "    # Add paths to your images\n",
    "]\n",
    "\n",
    "for img_path in image_paths:\n",
    "    result = predict_image(model, img_path)\n",
    "    print(f'{img_path} is {result}')\n"
   ]
  },
  {
   "cell_type": "code",
   "execution_count": null,
   "id": "5de2e1ea-91c1-4f05-9e08-ccf7b6faa820",
   "metadata": {},
   "outputs": [],
   "source": []
  }
 ],
 "metadata": {
  "kernelspec": {
   "display_name": "Python 3 (ipykernel)",
   "language": "python",
   "name": "python3"
  },
  "language_info": {
   "codemirror_mode": {
    "name": "ipython",
    "version": 3
   },
   "file_extension": ".py",
   "mimetype": "text/x-python",
   "name": "python",
   "nbconvert_exporter": "python",
   "pygments_lexer": "ipython3",
   "version": "3.11.4"
  }
 },
 "nbformat": 4,
 "nbformat_minor": 5
}
